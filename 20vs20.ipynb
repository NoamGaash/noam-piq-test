{
 "cells": [
  {
   "cell_type": "code",
   "execution_count": 2,
   "metadata": {},
   "outputs": [
    {
     "ename": "NameError",
     "evalue": "name 'pose' is not defined",
     "output_type": "error",
     "traceback": [
      "\u001b[0;31m---------------------------------------------------------------------------\u001b[0m",
      "\u001b[0;31mNameError\u001b[0m                                 Traceback (most recent call last)",
      "\u001b[0;32m/tmp/ipykernel_4276/2758440986.py\u001b[0m in \u001b[0;36m<module>\u001b[0;34m\u001b[0m\n\u001b[0;32m----> 1\u001b[0;31m \u001b[0;34m\"results/out_pose_%04d_appearence_%04d.txt\"\u001b[0m \u001b[0;34m%\u001b[0m \u001b[0;34m(\u001b[0m\u001b[0mpose\u001b[0m\u001b[0;34m,\u001b[0m \u001b[0mappearance\u001b[0m\u001b[0;34m)\u001b[0m\u001b[0;34m\u001b[0m\u001b[0;34m\u001b[0m\u001b[0m\n\u001b[0m",
      "\u001b[0;31mNameError\u001b[0m: name 'pose' is not defined"
     ]
    }
   ],
   "source": [
    "\"results/out_pose_%04d_appearence_%04d.txt\" % (pose, appearance)"
   ]
  },
  {
   "cell_type": "code",
   "execution_count": 5,
   "metadata": {
    "scrolled": true
   },
   "outputs": [
    {
     "data": {
      "application/vnd.jupyter.widget-view+json": {
       "model_id": "a71f0026e43a41c2aefd2b75d1312299",
       "version_major": 2,
       "version_minor": 0
      },
      "text/plain": [
       "  0%|          | 0/10 [00:00<?, ?it/s]"
      ]
     },
     "metadata": {},
     "output_type": "display_data"
    },
    {
     "data": {
      "application/vnd.jupyter.widget-view+json": {
       "model_id": "f1bfe8f9fefd4fd7bfcf7e9c9278a68a",
       "version_major": 2,
       "version_minor": 0
      },
      "text/plain": [
       "  0%|          | 0/10 [00:00<?, ?it/s]"
      ]
     },
     "metadata": {},
     "output_type": "display_data"
    },
    {
     "data": {
      "application/vnd.jupyter.widget-view+json": {
       "model_id": "93b2002aaf4442fab5aa2f13fe48047a",
       "version_major": 2,
       "version_minor": 0
      },
      "text/plain": [
       "  0%|          | 0/10 [00:00<?, ?it/s]"
      ]
     },
     "metadata": {},
     "output_type": "display_data"
    },
    {
     "data": {
      "application/vnd.jupyter.widget-view+json": {
       "model_id": "6cd3c268dee84571acaf13e68b251da7",
       "version_major": 2,
       "version_minor": 0
      },
      "text/plain": [
       "  0%|          | 0/10 [00:00<?, ?it/s]"
      ]
     },
     "metadata": {},
     "output_type": "display_data"
    },
    {
     "name": "stdout",
     "output_type": "stream",
     "text": [
      "8 2\n",
      "Setting up [LPIPS] perceptual loss: trunk [alex], v[0.1], spatial [off]\n",
      "Loading model from: /home/noam/anaconda3/envs/pytorch/lib/python3.7/site-packages/lpips/weights/v0.1/alex.pth\n",
      "compare /home/noam/Documents/4-4 dataset/output/casia-no-bg/all_subjects/results/WS30/CASIA/Dataset_stick_from_appearance_0002/0008/ vs /home/noam/Documents/4-4 dataset/output/casia-no-bg/all_subjects/Crop256/rgb/0008/\n",
      "Traceback (most recent call last):\n",
      "  File \"lpips_2dirs.py\", line 56, in <module>\n",
      "    lpips_loss = getMetric(loss_fn.forward)\n",
      "  File \"lpips_2dirs.py\", line 34, in getMetric\n",
      "    img0 = lpips.im2tensor(lpips.load_image(os.path.join(opt.dir0,file))) # RGB image from [-1,1]\n",
      "  File \"/home/noam/anaconda3/envs/pytorch/lib/python3.7/site-packages/lpips/__init__.py\", line 81, in load_image\n",
      "    return cv2.imread(path)[:,:,::-1]\n",
      "TypeError: 'NoneType' object is not subscriptable\n"
     ]
    },
    {
     "data": {
      "application/vnd.jupyter.widget-view+json": {
       "model_id": "c78d6fef02dc48ffb1c345e8d05fca9d",
       "version_major": 2,
       "version_minor": 0
      },
      "text/plain": [
       "  0%|          | 0/10 [00:00<?, ?it/s]"
      ]
     },
     "metadata": {},
     "output_type": "display_data"
    },
    {
     "data": {
      "application/vnd.jupyter.widget-view+json": {
       "model_id": "417c18d3ee3f4a7bbcb94c9e9b356b87",
       "version_major": 2,
       "version_minor": 0
      },
      "text/plain": [
       "  0%|          | 0/10 [00:00<?, ?it/s]"
      ]
     },
     "metadata": {},
     "output_type": "display_data"
    },
    {
     "data": {
      "application/vnd.jupyter.widget-view+json": {
       "model_id": "e9996488417f431ea897d13524b16b94",
       "version_major": 2,
       "version_minor": 0
      },
      "text/plain": [
       "  0%|          | 0/10 [00:00<?, ?it/s]"
      ]
     },
     "metadata": {},
     "output_type": "display_data"
    },
    {
     "data": {
      "application/vnd.jupyter.widget-view+json": {
       "model_id": "6fa720b21a0c476fb013e6db69d78900",
       "version_major": 2,
       "version_minor": 0
      },
      "text/plain": [
       "  0%|          | 0/10 [00:00<?, ?it/s]"
      ]
     },
     "metadata": {},
     "output_type": "display_data"
    },
    {
     "data": {
      "application/vnd.jupyter.widget-view+json": {
       "model_id": "ec9bd1d2ccb446a5a3e1a10669aa1fce",
       "version_major": 2,
       "version_minor": 0
      },
      "text/plain": [
       "  0%|          | 0/10 [00:00<?, ?it/s]"
      ]
     },
     "metadata": {},
     "output_type": "display_data"
    },
    {
     "data": {
      "application/vnd.jupyter.widget-view+json": {
       "model_id": "aa7bdc04a9df49b8afe842730bfce467",
       "version_major": 2,
       "version_minor": 0
      },
      "text/plain": [
       "  0%|          | 0/10 [00:00<?, ?it/s]"
      ]
     },
     "metadata": {},
     "output_type": "display_data"
    },
    {
     "data": {
      "application/vnd.jupyter.widget-view+json": {
       "model_id": "a0aecd655c6f42f9adfc46e478b794b3",
       "version_major": 2,
       "version_minor": 0
      },
      "text/plain": [
       "  0%|          | 0/10 [00:00<?, ?it/s]"
      ]
     },
     "metadata": {},
     "output_type": "display_data"
    }
   ],
   "source": [
    "from tqdm.notebook import tqdm, trange\n",
    "import os\n",
    "\n",
    "for appearance in trange(10):\n",
    "    for pose in trange(10, leave=False):\n",
    "        if not os.path.exists(\"results/sticks/out_pose_%04d_appearence_%04d.txt\" % (pose, appearance)):\n",
    "            print(pose, appearance)\n",
    "            !python lpips_2dirs.py \\\n",
    "                    -d0 \"/home/noam/Documents/4-4 dataset/output/casia-no-bg/all_subjects/results/WS30/CASIA/Dataset_stick_from_appearance_{\"%04d\" % appearance}/{\"%04d\" % pose}/\" \\\n",
    "                    -d1 \"/home/noam/Documents/4-4 dataset/output/casia-no-bg/all_subjects/Crop256/rgb/{\"%04d\" % pose}/\" \\\n",
    "                    -o \"results/sticks/out_pose_{\"%04d\" % pose}_appearence_{\"%04d\" % appearance}.txt\"\n"
   ]
  },
  {
   "cell_type": "code",
   "execution_count": 6,
   "metadata": {},
   "outputs": [
    {
     "data": {
      "application/vnd.jupyter.widget-view+json": {
       "model_id": "6788d2ebf5fd4b7cb652f6ce29d092e4",
       "version_major": 2,
       "version_minor": 0
      },
      "text/plain": [
       "  0%|          | 0/10 [00:00<?, ?it/s]"
      ]
     },
     "metadata": {},
     "output_type": "display_data"
    },
    {
     "data": {
      "application/vnd.jupyter.widget-view+json": {
       "model_id": "27b9654dfa204ad884744879bc65b37f",
       "version_major": 2,
       "version_minor": 0
      },
      "text/plain": [
       "  0%|          | 0/10 [00:00<?, ?it/s]"
      ]
     },
     "metadata": {},
     "output_type": "display_data"
    },
    {
     "name": "stdout",
     "output_type": "stream",
     "text": [
      "0 0\n",
      "Setting up [LPIPS] perceptual loss: trunk [alex], v[0.1], spatial [off]\n",
      "Loading model from: /home/noam/anaconda3/envs/pytorch/lib/python3.7/site-packages/lpips/weights/v0.1/alex.pth\n",
      "compare /home/noam/Documents/4-4 dataset/output/casia-no-bg/all_subjects/results/WS30/CASIA/Dataset_IUV_from_appearance_0000/0000/ vs /home/noam/Documents/4-4 dataset/output/casia-no-bg/all_subjects/Crop256/rgb/0000/\n",
      "lpips: 0.113\n",
      "ssim: 0.178\n",
      "1 0\n",
      "Setting up [LPIPS] perceptual loss: trunk [alex], v[0.1], spatial [off]\n",
      "Loading model from: /home/noam/anaconda3/envs/pytorch/lib/python3.7/site-packages/lpips/weights/v0.1/alex.pth\n",
      "compare /home/noam/Documents/4-4 dataset/output/casia-no-bg/all_subjects/results/WS30/CASIA/Dataset_IUV_from_appearance_0000/0001/ vs /home/noam/Documents/4-4 dataset/output/casia-no-bg/all_subjects/Crop256/rgb/0001/\n",
      "lpips: 0.139\n",
      "ssim: 0.215\n",
      "2 0\n",
      "Setting up [LPIPS] perceptual loss: trunk [alex], v[0.1], spatial [off]\n",
      "Loading model from: /home/noam/anaconda3/envs/pytorch/lib/python3.7/site-packages/lpips/weights/v0.1/alex.pth\n",
      "compare /home/noam/Documents/4-4 dataset/output/casia-no-bg/all_subjects/results/WS30/CASIA/Dataset_IUV_from_appearance_0000/0002/ vs /home/noam/Documents/4-4 dataset/output/casia-no-bg/all_subjects/Crop256/rgb/0002/\n",
      "lpips: 0.152\n",
      "ssim: 0.223\n",
      "3 0\n",
      "Setting up [LPIPS] perceptual loss: trunk [alex], v[0.1], spatial [off]\n",
      "Loading model from: /home/noam/anaconda3/envs/pytorch/lib/python3.7/site-packages/lpips/weights/v0.1/alex.pth\n",
      "compare /home/noam/Documents/4-4 dataset/output/casia-no-bg/all_subjects/results/WS30/CASIA/Dataset_IUV_from_appearance_0000/0003/ vs /home/noam/Documents/4-4 dataset/output/casia-no-bg/all_subjects/Crop256/rgb/0003/\n",
      "lpips: 0.157\n",
      "ssim: 0.228\n",
      "4 0\n",
      "Setting up [LPIPS] perceptual loss: trunk [alex], v[0.1], spatial [off]\n",
      "Loading model from: /home/noam/anaconda3/envs/pytorch/lib/python3.7/site-packages/lpips/weights/v0.1/alex.pth\n",
      "compare /home/noam/Documents/4-4 dataset/output/casia-no-bg/all_subjects/results/WS30/CASIA/Dataset_IUV_from_appearance_0000/0004/ vs /home/noam/Documents/4-4 dataset/output/casia-no-bg/all_subjects/Crop256/rgb/0004/\n",
      "lpips: 0.153\n",
      "ssim: 0.228\n",
      "5 0\n",
      "Setting up [LPIPS] perceptual loss: trunk [alex], v[0.1], spatial [off]\n",
      "Loading model from: /home/noam/anaconda3/envs/pytorch/lib/python3.7/site-packages/lpips/weights/v0.1/alex.pth\n",
      "compare /home/noam/Documents/4-4 dataset/output/casia-no-bg/all_subjects/results/WS30/CASIA/Dataset_IUV_from_appearance_0000/0005/ vs /home/noam/Documents/4-4 dataset/output/casia-no-bg/all_subjects/Crop256/rgb/0005/\n",
      "lpips: 0.169\n",
      "ssim: 0.228\n",
      "6 0\n",
      "Setting up [LPIPS] perceptual loss: trunk [alex], v[0.1], spatial [off]\n",
      "Loading model from: /home/noam/anaconda3/envs/pytorch/lib/python3.7/site-packages/lpips/weights/v0.1/alex.pth\n",
      "compare /home/noam/Documents/4-4 dataset/output/casia-no-bg/all_subjects/results/WS30/CASIA/Dataset_IUV_from_appearance_0000/0006/ vs /home/noam/Documents/4-4 dataset/output/casia-no-bg/all_subjects/Crop256/rgb/0006/\n",
      "lpips: 0.164\n",
      "ssim: 0.222\n",
      "7 0\n",
      "Setting up [LPIPS] perceptual loss: trunk [alex], v[0.1], spatial [off]\n",
      "Loading model from: /home/noam/anaconda3/envs/pytorch/lib/python3.7/site-packages/lpips/weights/v0.1/alex.pth\n",
      "compare /home/noam/Documents/4-4 dataset/output/casia-no-bg/all_subjects/results/WS30/CASIA/Dataset_IUV_from_appearance_0000/0007/ vs /home/noam/Documents/4-4 dataset/output/casia-no-bg/all_subjects/Crop256/rgb/0007/\n",
      "lpips: 0.141\n",
      "ssim: 0.218\n",
      "8 0\n",
      "Setting up [LPIPS] perceptual loss: trunk [alex], v[0.1], spatial [off]\n",
      "Loading model from: /home/noam/anaconda3/envs/pytorch/lib/python3.7/site-packages/lpips/weights/v0.1/alex.pth\n",
      "compare /home/noam/Documents/4-4 dataset/output/casia-no-bg/all_subjects/results/WS30/CASIA/Dataset_IUV_from_appearance_0000/0008/ vs /home/noam/Documents/4-4 dataset/output/casia-no-bg/all_subjects/Crop256/rgb/0008/\n",
      "lpips: 0.173\n",
      "ssim: 0.225\n",
      "9 0\n",
      "Setting up [LPIPS] perceptual loss: trunk [alex], v[0.1], spatial [off]\n",
      "Loading model from: /home/noam/anaconda3/envs/pytorch/lib/python3.7/site-packages/lpips/weights/v0.1/alex.pth\n",
      "compare /home/noam/Documents/4-4 dataset/output/casia-no-bg/all_subjects/results/WS30/CASIA/Dataset_IUV_from_appearance_0000/0009/ vs /home/noam/Documents/4-4 dataset/output/casia-no-bg/all_subjects/Crop256/rgb/0009/\n",
      "lpips: 0.181\n",
      "ssim: 0.230\n"
     ]
    },
    {
     "data": {
      "application/vnd.jupyter.widget-view+json": {
       "model_id": "c7f55ffe03cb461a81a3a9c2c98c2684",
       "version_major": 2,
       "version_minor": 0
      },
      "text/plain": [
       "  0%|          | 0/10 [00:00<?, ?it/s]"
      ]
     },
     "metadata": {},
     "output_type": "display_data"
    },
    {
     "name": "stdout",
     "output_type": "stream",
     "text": [
      "0 1\n",
      "Setting up [LPIPS] perceptual loss: trunk [alex], v[0.1], spatial [off]\n",
      "Loading model from: /home/noam/anaconda3/envs/pytorch/lib/python3.7/site-packages/lpips/weights/v0.1/alex.pth\n",
      "compare /home/noam/Documents/4-4 dataset/output/casia-no-bg/all_subjects/results/WS30/CASIA/Dataset_IUV_from_appearance_0001/0000/ vs /home/noam/Documents/4-4 dataset/output/casia-no-bg/all_subjects/Crop256/rgb/0000/\n",
      "lpips: 0.141\n",
      "ssim: 0.215\n",
      "1 1\n",
      "Setting up [LPIPS] perceptual loss: trunk [alex], v[0.1], spatial [off]\n",
      "Loading model from: /home/noam/anaconda3/envs/pytorch/lib/python3.7/site-packages/lpips/weights/v0.1/alex.pth\n",
      "compare /home/noam/Documents/4-4 dataset/output/casia-no-bg/all_subjects/results/WS30/CASIA/Dataset_IUV_from_appearance_0001/0001/ vs /home/noam/Documents/4-4 dataset/output/casia-no-bg/all_subjects/Crop256/rgb/0001/\n",
      "lpips: 0.109\n",
      "ssim: 0.174\n",
      "2 1\n",
      "Setting up [LPIPS] perceptual loss: trunk [alex], v[0.1], spatial [off]\n",
      "Loading model from: /home/noam/anaconda3/envs/pytorch/lib/python3.7/site-packages/lpips/weights/v0.1/alex.pth\n",
      "compare /home/noam/Documents/4-4 dataset/output/casia-no-bg/all_subjects/results/WS30/CASIA/Dataset_IUV_from_appearance_0001/0002/ vs /home/noam/Documents/4-4 dataset/output/casia-no-bg/all_subjects/Crop256/rgb/0002/\n",
      "lpips: 0.136\n",
      "ssim: 0.201\n",
      "3 1\n",
      "Setting up [LPIPS] perceptual loss: trunk [alex], v[0.1], spatial [off]\n",
      "Loading model from: /home/noam/anaconda3/envs/pytorch/lib/python3.7/site-packages/lpips/weights/v0.1/alex.pth\n",
      "compare /home/noam/Documents/4-4 dataset/output/casia-no-bg/all_subjects/results/WS30/CASIA/Dataset_IUV_from_appearance_0001/0003/ vs /home/noam/Documents/4-4 dataset/output/casia-no-bg/all_subjects/Crop256/rgb/0003/\n",
      "lpips: 0.140\n",
      "ssim: 0.208\n",
      "4 1\n",
      "Setting up [LPIPS] perceptual loss: trunk [alex], v[0.1], spatial [off]\n",
      "Loading model from: /home/noam/anaconda3/envs/pytorch/lib/python3.7/site-packages/lpips/weights/v0.1/alex.pth\n",
      "compare /home/noam/Documents/4-4 dataset/output/casia-no-bg/all_subjects/results/WS30/CASIA/Dataset_IUV_from_appearance_0001/0004/ vs /home/noam/Documents/4-4 dataset/output/casia-no-bg/all_subjects/Crop256/rgb/0004/\n",
      "lpips: 0.149\n",
      "ssim: 0.214\n",
      "5 1\n",
      "Setting up [LPIPS] perceptual loss: trunk [alex], v[0.1], spatial [off]\n",
      "Loading model from: /home/noam/anaconda3/envs/pytorch/lib/python3.7/site-packages/lpips/weights/v0.1/alex.pth\n",
      "compare /home/noam/Documents/4-4 dataset/output/casia-no-bg/all_subjects/results/WS30/CASIA/Dataset_IUV_from_appearance_0001/0005/ vs /home/noam/Documents/4-4 dataset/output/casia-no-bg/all_subjects/Crop256/rgb/0005/\n",
      "lpips: 0.164\n",
      "ssim: 0.207\n",
      "6 1\n",
      "Setting up [LPIPS] perceptual loss: trunk [alex], v[0.1], spatial [off]\n",
      "Loading model from: /home/noam/anaconda3/envs/pytorch/lib/python3.7/site-packages/lpips/weights/v0.1/alex.pth\n",
      "compare /home/noam/Documents/4-4 dataset/output/casia-no-bg/all_subjects/results/WS30/CASIA/Dataset_IUV_from_appearance_0001/0006/ vs /home/noam/Documents/4-4 dataset/output/casia-no-bg/all_subjects/Crop256/rgb/0006/\n",
      "lpips: 0.149\n",
      "ssim: 0.188\n",
      "7 1\n",
      "Setting up [LPIPS] perceptual loss: trunk [alex], v[0.1], spatial [off]\n",
      "Loading model from: /home/noam/anaconda3/envs/pytorch/lib/python3.7/site-packages/lpips/weights/v0.1/alex.pth\n",
      "compare /home/noam/Documents/4-4 dataset/output/casia-no-bg/all_subjects/results/WS30/CASIA/Dataset_IUV_from_appearance_0001/0007/ vs /home/noam/Documents/4-4 dataset/output/casia-no-bg/all_subjects/Crop256/rgb/0007/\n"
     ]
    }
   ],
   "source": [
    "from tqdm.notebook import tqdm, trange\n",
    "import os\n",
    "\n",
    "for appearance in trange(10):\n",
    "    for pose in trange(10, leave=False):\n",
    "        if not os.path.exists(\"results/iuv/out_pose_%04d_appearence_%04d.txt\" % (pose, appearance)):\n",
    "            print(pose, appearance)\n",
    "            !python lpips_2dirs.py \\\n",
    "                    -d0 \"/home/noam/Documents/4-4 dataset/output/casia-no-bg/all_subjects/results/WS30/CASIA/Dataset_IUV_from_appearance_{\"%04d\" % appearance}/{\"%04d\" % pose}/\" \\\n",
    "                    -d1 \"/home/noam/Documents/4-4 dataset/output/casia-no-bg/all_subjects/Crop256/rgb/{\"%04d\" % pose}/\" \\\n",
    "                    -o \"results/iuv/out_pose_{\"%04d\" % pose}_appearence_{\"%04d\" % appearance}.txt\"\n"
   ]
  },
  {
   "cell_type": "code",
   "execution_count": null,
   "metadata": {},
   "outputs": [],
   "source": []
  }
 ],
 "metadata": {
  "kernelspec": {
   "display_name": "Python 3 (ipykernel)",
   "language": "python",
   "name": "python3"
  },
  "language_info": {
   "codemirror_mode": {
    "name": "ipython",
    "version": 3
   },
   "file_extension": ".py",
   "mimetype": "text/x-python",
   "name": "python",
   "nbconvert_exporter": "python",
   "pygments_lexer": "ipython3",
   "version": "3.7.9"
  }
 },
 "nbformat": 4,
 "nbformat_minor": 2
}
