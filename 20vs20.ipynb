{
 "cells": [
  {
   "cell_type": "code",
   "execution_count": 2,
   "metadata": {},
   "outputs": [
    {
     "ename": "NameError",
     "evalue": "name 'pose' is not defined",
     "output_type": "error",
     "traceback": [
      "\u001b[0;31m---------------------------------------------------------------------------\u001b[0m",
      "\u001b[0;31mNameError\u001b[0m                                 Traceback (most recent call last)",
      "\u001b[0;32m/tmp/ipykernel_4276/2758440986.py\u001b[0m in \u001b[0;36m<module>\u001b[0;34m\u001b[0m\n\u001b[0;32m----> 1\u001b[0;31m \u001b[0;34m\"results/out_pose_%04d_appearence_%04d.txt\"\u001b[0m \u001b[0;34m%\u001b[0m \u001b[0;34m(\u001b[0m\u001b[0mpose\u001b[0m\u001b[0;34m,\u001b[0m \u001b[0mappearance\u001b[0m\u001b[0;34m)\u001b[0m\u001b[0;34m\u001b[0m\u001b[0;34m\u001b[0m\u001b[0m\n\u001b[0m",
      "\u001b[0;31mNameError\u001b[0m: name 'pose' is not defined"
     ]
    }
   ],
   "source": [
    "\"results/out_pose_%04d_appearence_%04d.txt\" % (pose, appearance)"
   ]
  },
  {
   "cell_type": "markdown",
   "metadata": {},
   "source": [
    "# SSIM, LPIPS"
   ]
  },
  {
   "cell_type": "code",
   "execution_count": null,
   "metadata": {
    "scrolled": true
   },
   "outputs": [],
   "source": [
    "from tqdm.notebook import tqdm, trange\n",
    "import os\n",
    "\n",
    "for appearance in trange(20):\n",
    "    for pose in trange(20, leave=False):\n",
    "        if not os.path.exists(\"results/sticks/out_pose_%04d_appearence_%04d.txt\" % (pose, appearance)):\n",
    "            print(pose, appearance)\n",
    "            !python lpips_2dirs.py \\\n",
    "                    -d0 \"/home/noam/Documents/4-4 dataset/output/casia-no-bg/all_subjects/results/WS30/CASIA/Dataset_stick_from_appearance_{\"%04d\" % appearance}/{\"%04d\" % pose}/\" \\\n",
    "                    -d1 \"/home/noam/Documents/4-4 dataset/output/casia-no-bg/all_subjects/Crop256/rgb/{\"%04d\" % pose}/\" \\\n",
    "                    -o \"results/sticks/out_pose_{\"%04d\" % pose}_appearence_{\"%04d\" % appearance}.txt\"\n"
   ]
  },
  {
   "cell_type": "code",
   "execution_count": null,
   "metadata": {},
   "outputs": [],
   "source": [
    "from tqdm.notebook import tqdm, trange\n",
    "import os\n",
    "\n",
    "for appearance in trange(20):\n",
    "    for pose in trange(20, leave=False):\n",
    "        if not os.path.exists(\"results/iuv/out_pose_%04d_appearence_%04d.txt\" % (pose, appearance)):\n",
    "            print(pose, appearance)\n",
    "            !python lpips_2dirs.py \\\n",
    "                    -d0 \"/home/noam/Documents/4-4 dataset/output/casia-no-bg/all_subjects/results/WS30/CASIA/Dataset_IUV_from_appearance_{\"%04d\" % appearance}/{\"%04d\" % pose}/\" \\\n",
    "                    -d1 \"/home/noam/Documents/4-4 dataset/output/casia-no-bg/all_subjects/Crop256/rgb/{\"%04d\" % pose}/\" \\\n",
    "                    -o \"results/iuv/out_pose_{\"%04d\" % pose}_appearence_{\"%04d\" % appearance}.txt\"\n"
   ]
  },
  {
   "cell_type": "markdown",
   "metadata": {},
   "source": [
    "# FID, IS"
   ]
  },
  {
   "cell_type": "code",
   "execution_count": null,
   "metadata": {},
   "outputs": [],
   "source": [
    "from tqdm.notebook import tqdm, trange\n",
    "import os\n",
    "\n",
    "for appearance in trange(20):\n",
    "    for pose in trange(20, leave=False):\n",
    "        if not os.path.exists(\"results/sticks/out_IS_FID_pose_%04d_appearence_%04d.txt\" % (pose, appearance)):\n",
    "            print(pose, appearance)\n",
    "            !python FID_2dirs.py \\\n",
    "                    -d0 \"/home/noam/Documents/4-4 dataset/output/casia-no-bg/all_subjects/results/WS30/CASIA/Dataset_stick_from_appearance_{\"%04d\" % appearance}/{\"%04d\" % pose}/\" \\\n",
    "                    -d1 \"/home/noam/Documents/4-4 dataset/output/casia-no-bg/all_subjects/Crop256/rgb/{\"%04d\" % pose}/\" \\\n",
    "                    -o \"results/sticks/out_IS_FID_pose_{\"%04d\" % pose}_appearence_{\"%04d\" % appearance}.txt\" > \"results/sticks/out_IS_FID_pose_{\"%04d\" % pose}_appearence_{\"%04d\" % appearance}.txt\"\n",
    "                    "
   ]
  },
  {
   "cell_type": "code",
   "execution_count": null,
   "metadata": {},
   "outputs": [],
   "source": [
    "from tqdm.notebook import tqdm, trange\n",
    "import os\n",
    "\n",
    "for appearance in trange(20):\n",
    "    for pose in trange(20, leave=False):\n",
    "        if not os.path.exists(\"results/sticks/out_pose_%04d_appearence_%04d.txt\" % (pose, appearance)):\n",
    "            print(pose, appearance)\n",
    "            !python lpips_2dirs.py \\\n",
    "                    -d0 \"/home/noam/Documents/4-4 dataset/output/casia-no-bg/all_subjects/results/WS30/CASIA/Dataset_stick_from_appearance_{\"%04d\" % appearance}/{\"%04d\" % pose}/\" \\\n",
    "                    -d1 \"/home/noam/Documents/4-4 dataset/output/casia-no-bg/all_subjects/Crop256/rgb/{\"%04d\" % pose}/\" \\\n",
    "                    -o \"results/sticks/out_pose_{\"%04d\" % pose}_appearence_{\"%04d\" % appearance}.txt\"\n"
   ]
  }
 ],
 "metadata": {
  "kernelspec": {
   "display_name": "Python 3 (ipykernel)",
   "language": "python",
   "name": "python3"
  },
  "language_info": {
   "codemirror_mode": {
    "name": "ipython",
    "version": 3
   },
   "file_extension": ".py",
   "mimetype": "text/x-python",
   "name": "python",
   "nbconvert_exporter": "python",
   "pygments_lexer": "ipython3",
   "version": "3.7.9"
  }
 },
 "nbformat": 4,
 "nbformat_minor": 2
}
